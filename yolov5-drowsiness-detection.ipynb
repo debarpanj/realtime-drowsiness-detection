{
 "cells": [
  {
   "cell_type": "markdown",
   "id": "c2053468",
   "metadata": {},
   "source": [
    "# 1. Install and Import Dependencies"
   ]
  },
  {
   "cell_type": "code",
   "execution_count": 1,
   "id": "89d2ec67",
   "metadata": {
    "scrolled": true
   },
   "outputs": [
    {
     "name": "stdout",
     "output_type": "stream",
     "text": [
      "Looking in indexes: https://download.pytorch.org/whl/nightly/cpu\n",
      "Requirement already satisfied: torch in /opt/homebrew/lib/python3.11/site-packages (2.1.0.dev20230428)\n",
      "Requirement already satisfied: torchvision in /opt/homebrew/lib/python3.11/site-packages (0.16.0.dev20230428)\n",
      "Requirement already satisfied: torchaudio in /opt/homebrew/lib/python3.11/site-packages (2.1.0.dev20230428)\n",
      "Requirement already satisfied: filelock in /opt/homebrew/lib/python3.11/site-packages (from torch) (3.9.0)\n",
      "Requirement already satisfied: typing-extensions in /opt/homebrew/lib/python3.11/site-packages (from torch) (4.4.0)\n",
      "Requirement already satisfied: sympy in /opt/homebrew/lib/python3.11/site-packages (from torch) (1.11.1)\n",
      "Requirement already satisfied: networkx in /opt/homebrew/lib/python3.11/site-packages (from torch) (3.0rc1)\n",
      "Requirement already satisfied: jinja2 in /opt/homebrew/lib/python3.11/site-packages (from torch) (3.1.2)\n",
      "Requirement already satisfied: fsspec in /opt/homebrew/lib/python3.11/site-packages (from torch) (2023.4.0)\n",
      "Requirement already satisfied: numpy in /opt/homebrew/lib/python3.11/site-packages (from torchvision) (1.24.1)\n",
      "Requirement already satisfied: requests in /opt/homebrew/lib/python3.11/site-packages (from torchvision) (2.28.1)\n",
      "Requirement already satisfied: pillow!=8.3.*,>=5.3.0 in /opt/homebrew/lib/python3.11/site-packages (from torchvision) (9.3.0)\n",
      "Requirement already satisfied: MarkupSafe>=2.0 in /opt/homebrew/lib/python3.11/site-packages (from jinja2->torch) (2.1.2)\n",
      "Requirement already satisfied: charset-normalizer<3,>=2 in /opt/homebrew/lib/python3.11/site-packages (from requests->torchvision) (2.1.1)\n",
      "Requirement already satisfied: idna<4,>=2.5 in /opt/homebrew/lib/python3.11/site-packages (from requests->torchvision) (3.4)\n",
      "Requirement already satisfied: urllib3<1.27,>=1.21.1 in /opt/homebrew/lib/python3.11/site-packages (from requests->torchvision) (1.26.13)\n",
      "Requirement already satisfied: certifi>=2017.4.17 in /opt/homebrew/lib/python3.11/site-packages (from requests->torchvision) (2022.12.7)\n",
      "Requirement already satisfied: mpmath>=0.19 in /opt/homebrew/lib/python3.11/site-packages (from sympy->torch) (1.2.1)\n"
     ]
    }
   ],
   "source": [
    "## For ARM Mac ##\n",
    "# !pip3 install --pre torch torchvision torchaudio --index-url https://download.pytorch.org/whl/nightly/cpu\n",
    "# For Linux\n",
    "# !pip3 install torch torchvision torchaudio"
   ]
  },
  {
   "cell_type": "code",
   "execution_count": null,
   "id": "87117dbe",
   "metadata": {},
   "outputs": [],
   "source": [
    "import wandb\n",
    "import torch\n",
    "import matplotlib.pyplot as plt\n",
    "import numpy as np\n",
    "import cv2\n",
    "import uuid   # Unique identifier\n",
    "import os\n",
    "import time\n",
    "import sys\n",
    "from zipfile import ZipFile"
   ]
  },
  {
   "cell_type": "markdown",
   "id": "d81177ab",
   "metadata": {},
   "source": [
    "## Data set and modified yolo repo downloaded from kaggle"
   ]
  },
  {
   "cell_type": "code",
   "execution_count": null,
   "id": "c7741fee",
   "metadata": {},
   "outputs": [],
   "source": [
    "!mkdir ~/.kaggle\n",
    "!touch ~/.kaggle/kaggle.json\n",
    "api_token = {\"username\":\"\",\"key\":\"\"} #Place your kaggle credentials here\n",
    "import json\n",
    "\n",
    "with open('/root/.kaggle/kaggle.json', 'w') as file:\n",
    "    json.dump(api_token, file)\n",
    "\n",
    "!chmod 600 ~/.kaggle/kaggle.json\n",
    "!kaggle datasets download -d mak1999/yolov5-drowsy"
   ]
  },
  {
   "cell_type": "code",
   "execution_count": null,
   "id": "eaff74c4",
   "metadata": {},
   "outputs": [],
   "source": [
    "filename = 'yolov5-drowsy.zip'\n",
    "with ZipFile(filename, 'r') as z:\n",
    "    print('Extracting all the files now...')\n",
    "    z.extractall()\n",
    "    print('Done!')\n",
    "os.remove(filename)"
   ]
  },
  {
   "cell_type": "code",
   "execution_count": 12,
   "id": "321668af",
   "metadata": {},
   "outputs": [
    {
     "name": "stdout",
     "output_type": "stream",
     "text": [
      "Requirement already satisfied: gitpython>=3.1.30 in /opt/homebrew/lib/python3.11/site-packages (from -r yolov5/requirements.txt (line 5)) (3.1.31)\n",
      "Requirement already satisfied: matplotlib>=3.3 in /opt/homebrew/lib/python3.11/site-packages (from -r yolov5/requirements.txt (line 6)) (3.7.1)\n",
      "Requirement already satisfied: numpy>=1.18.5 in /opt/homebrew/lib/python3.11/site-packages (from -r yolov5/requirements.txt (line 7)) (1.24.1)\n",
      "Requirement already satisfied: opencv-python>=4.1.1 in /opt/homebrew/lib/python3.11/site-packages (from -r yolov5/requirements.txt (line 8)) (4.7.0.72)\n",
      "Requirement already satisfied: Pillow>=7.1.2 in /opt/homebrew/lib/python3.11/site-packages (from -r yolov5/requirements.txt (line 9)) (9.3.0)\n",
      "Requirement already satisfied: psutil in /opt/homebrew/lib/python3.11/site-packages (from -r yolov5/requirements.txt (line 10)) (5.9.5)\n",
      "Requirement already satisfied: PyYAML>=5.3.1 in /opt/homebrew/lib/python3.11/site-packages (from -r yolov5/requirements.txt (line 11)) (6.0)\n",
      "Requirement already satisfied: requests>=2.23.0 in /opt/homebrew/lib/python3.11/site-packages (from -r yolov5/requirements.txt (line 12)) (2.28.1)\n",
      "Requirement already satisfied: scipy>=1.4.1 in /opt/homebrew/lib/python3.11/site-packages (from -r yolov5/requirements.txt (line 13)) (1.10.1)\n",
      "Requirement already satisfied: thop>=0.1.1 in /opt/homebrew/lib/python3.11/site-packages (from -r yolov5/requirements.txt (line 14)) (0.1.1.post2209072238)\n",
      "Requirement already satisfied: torch>=1.7.0 in /opt/homebrew/lib/python3.11/site-packages (from -r yolov5/requirements.txt (line 15)) (2.1.0.dev20230428)\n",
      "Requirement already satisfied: torchvision>=0.8.1 in /opt/homebrew/lib/python3.11/site-packages (from -r yolov5/requirements.txt (line 16)) (0.16.0.dev20230428)\n",
      "Requirement already satisfied: tqdm>=4.64.0 in /opt/homebrew/lib/python3.11/site-packages (from -r yolov5/requirements.txt (line 17)) (4.65.0)\n",
      "Requirement already satisfied: tensorboard>=2.4.1 in /opt/homebrew/lib/python3.11/site-packages (from -r yolov5/requirements.txt (line 21)) (2.12.2)\n",
      "Requirement already satisfied: pandas>=1.1.4 in /opt/homebrew/lib/python3.11/site-packages (from -r yolov5/requirements.txt (line 26)) (2.0.1)\n",
      "Requirement already satisfied: seaborn>=0.11.0 in /opt/homebrew/lib/python3.11/site-packages (from -r yolov5/requirements.txt (line 27)) (0.12.2)\n",
      "Requirement already satisfied: setuptools>=65.5.1 in /opt/homebrew/lib/python3.11/site-packages (from -r yolov5/requirements.txt (line 41)) (67.6.1)\n",
      "Requirement already satisfied: gitdb<5,>=4.0.1 in /opt/homebrew/lib/python3.11/site-packages (from gitpython>=3.1.30->-r yolov5/requirements.txt (line 5)) (4.0.10)\n",
      "Requirement already satisfied: contourpy>=1.0.1 in /opt/homebrew/lib/python3.11/site-packages (from matplotlib>=3.3->-r yolov5/requirements.txt (line 6)) (1.0.7)\n",
      "Requirement already satisfied: cycler>=0.10 in /opt/homebrew/lib/python3.11/site-packages (from matplotlib>=3.3->-r yolov5/requirements.txt (line 6)) (0.11.0)\n",
      "Requirement already satisfied: fonttools>=4.22.0 in /opt/homebrew/lib/python3.11/site-packages (from matplotlib>=3.3->-r yolov5/requirements.txt (line 6)) (4.39.3)\n",
      "Requirement already satisfied: kiwisolver>=1.0.1 in /opt/homebrew/lib/python3.11/site-packages (from matplotlib>=3.3->-r yolov5/requirements.txt (line 6)) (1.4.4)\n",
      "Requirement already satisfied: packaging>=20.0 in /opt/homebrew/lib/python3.11/site-packages (from matplotlib>=3.3->-r yolov5/requirements.txt (line 6)) (23.1)\n",
      "Requirement already satisfied: pyparsing>=2.3.1 in /opt/homebrew/lib/python3.11/site-packages (from matplotlib>=3.3->-r yolov5/requirements.txt (line 6)) (3.0.9)\n",
      "Requirement already satisfied: python-dateutil>=2.7 in /opt/homebrew/lib/python3.11/site-packages (from matplotlib>=3.3->-r yolov5/requirements.txt (line 6)) (2.8.2)\n",
      "Requirement already satisfied: charset-normalizer<3,>=2 in /opt/homebrew/lib/python3.11/site-packages (from requests>=2.23.0->-r yolov5/requirements.txt (line 12)) (2.1.1)\n",
      "Requirement already satisfied: idna<4,>=2.5 in /opt/homebrew/lib/python3.11/site-packages (from requests>=2.23.0->-r yolov5/requirements.txt (line 12)) (3.4)\n",
      "Requirement already satisfied: urllib3<1.27,>=1.21.1 in /opt/homebrew/lib/python3.11/site-packages (from requests>=2.23.0->-r yolov5/requirements.txt (line 12)) (1.26.13)\n",
      "Requirement already satisfied: certifi>=2017.4.17 in /opt/homebrew/lib/python3.11/site-packages (from requests>=2.23.0->-r yolov5/requirements.txt (line 12)) (2022.12.7)\n",
      "Requirement already satisfied: filelock in /opt/homebrew/lib/python3.11/site-packages (from torch>=1.7.0->-r yolov5/requirements.txt (line 15)) (3.9.0)\n",
      "Requirement already satisfied: typing-extensions in /opt/homebrew/lib/python3.11/site-packages (from torch>=1.7.0->-r yolov5/requirements.txt (line 15)) (4.4.0)\n",
      "Requirement already satisfied: sympy in /opt/homebrew/lib/python3.11/site-packages (from torch>=1.7.0->-r yolov5/requirements.txt (line 15)) (1.11.1)\n",
      "Requirement already satisfied: networkx in /opt/homebrew/lib/python3.11/site-packages (from torch>=1.7.0->-r yolov5/requirements.txt (line 15)) (3.0rc1)\n",
      "Requirement already satisfied: jinja2 in /opt/homebrew/lib/python3.11/site-packages (from torch>=1.7.0->-r yolov5/requirements.txt (line 15)) (3.1.2)\n",
      "Requirement already satisfied: fsspec in /opt/homebrew/lib/python3.11/site-packages (from torch>=1.7.0->-r yolov5/requirements.txt (line 15)) (2023.4.0)\n",
      "Requirement already satisfied: absl-py>=0.4 in /opt/homebrew/lib/python3.11/site-packages (from tensorboard>=2.4.1->-r yolov5/requirements.txt (line 21)) (1.4.0)\n",
      "Requirement already satisfied: grpcio>=1.48.2 in /opt/homebrew/lib/python3.11/site-packages (from tensorboard>=2.4.1->-r yolov5/requirements.txt (line 21)) (1.54.0)\n",
      "Requirement already satisfied: google-auth<3,>=1.6.3 in /opt/homebrew/lib/python3.11/site-packages (from tensorboard>=2.4.1->-r yolov5/requirements.txt (line 21)) (2.17.3)\n",
      "Requirement already satisfied: google-auth-oauthlib<1.1,>=0.5 in /opt/homebrew/lib/python3.11/site-packages (from tensorboard>=2.4.1->-r yolov5/requirements.txt (line 21)) (1.0.0)\n",
      "Requirement already satisfied: markdown>=2.6.8 in /opt/homebrew/lib/python3.11/site-packages (from tensorboard>=2.4.1->-r yolov5/requirements.txt (line 21)) (3.4.3)\n",
      "Requirement already satisfied: protobuf>=3.19.6 in /opt/homebrew/lib/python3.11/site-packages (from tensorboard>=2.4.1->-r yolov5/requirements.txt (line 21)) (4.22.3)\n",
      "Requirement already satisfied: tensorboard-data-server<0.8.0,>=0.7.0 in /opt/homebrew/lib/python3.11/site-packages (from tensorboard>=2.4.1->-r yolov5/requirements.txt (line 21)) (0.7.0)\n",
      "Requirement already satisfied: tensorboard-plugin-wit>=1.6.0 in /opt/homebrew/lib/python3.11/site-packages (from tensorboard>=2.4.1->-r yolov5/requirements.txt (line 21)) (1.8.1)\n",
      "Requirement already satisfied: werkzeug>=1.0.1 in /opt/homebrew/lib/python3.11/site-packages (from tensorboard>=2.4.1->-r yolov5/requirements.txt (line 21)) (2.3.1)\n",
      "Requirement already satisfied: wheel>=0.26 in /opt/homebrew/lib/python3.11/site-packages (from tensorboard>=2.4.1->-r yolov5/requirements.txt (line 21)) (0.40.0)\n",
      "Requirement already satisfied: pytz>=2020.1 in /opt/homebrew/lib/python3.11/site-packages (from pandas>=1.1.4->-r yolov5/requirements.txt (line 26)) (2023.3)\n",
      "Requirement already satisfied: tzdata>=2022.1 in /opt/homebrew/lib/python3.11/site-packages (from pandas>=1.1.4->-r yolov5/requirements.txt (line 26)) (2023.3)\n",
      "Requirement already satisfied: smmap<6,>=3.0.1 in /opt/homebrew/lib/python3.11/site-packages (from gitdb<5,>=4.0.1->gitpython>=3.1.30->-r yolov5/requirements.txt (line 5)) (5.0.0)\n",
      "Requirement already satisfied: cachetools<6.0,>=2.0.0 in /opt/homebrew/lib/python3.11/site-packages (from google-auth<3,>=1.6.3->tensorboard>=2.4.1->-r yolov5/requirements.txt (line 21)) (5.3.0)\n",
      "Requirement already satisfied: pyasn1-modules>=0.2.1 in /opt/homebrew/lib/python3.11/site-packages (from google-auth<3,>=1.6.3->tensorboard>=2.4.1->-r yolov5/requirements.txt (line 21)) (0.3.0)\n",
      "Requirement already satisfied: six>=1.9.0 in /opt/homebrew/lib/python3.11/site-packages (from google-auth<3,>=1.6.3->tensorboard>=2.4.1->-r yolov5/requirements.txt (line 21)) (1.16.0)\n",
      "Requirement already satisfied: rsa<5,>=3.1.4 in /opt/homebrew/lib/python3.11/site-packages (from google-auth<3,>=1.6.3->tensorboard>=2.4.1->-r yolov5/requirements.txt (line 21)) (4.9)\n",
      "Requirement already satisfied: requests-oauthlib>=0.7.0 in /opt/homebrew/lib/python3.11/site-packages (from google-auth-oauthlib<1.1,>=0.5->tensorboard>=2.4.1->-r yolov5/requirements.txt (line 21)) (1.3.1)\n"
     ]
    },
    {
     "name": "stdout",
     "output_type": "stream",
     "text": [
      "Requirement already satisfied: MarkupSafe>=2.1.1 in /opt/homebrew/lib/python3.11/site-packages (from werkzeug>=1.0.1->tensorboard>=2.4.1->-r yolov5/requirements.txt (line 21)) (2.1.2)\n",
      "Requirement already satisfied: mpmath>=0.19 in /opt/homebrew/lib/python3.11/site-packages (from sympy->torch>=1.7.0->-r yolov5/requirements.txt (line 15)) (1.2.1)\n",
      "Requirement already satisfied: pyasn1<0.6.0,>=0.4.6 in /opt/homebrew/lib/python3.11/site-packages (from pyasn1-modules>=0.2.1->google-auth<3,>=1.6.3->tensorboard>=2.4.1->-r yolov5/requirements.txt (line 21)) (0.5.0)\n",
      "Requirement already satisfied: oauthlib>=3.0.0 in /opt/homebrew/lib/python3.11/site-packages (from requests-oauthlib>=0.7.0->google-auth-oauthlib<1.1,>=0.5->tensorboard>=2.4.1->-r yolov5/requirements.txt (line 21)) (3.2.2)\n"
     ]
    }
   ],
   "source": [
    "!pip3 install -r yolov5/requirements.txt"
   ]
  },
  {
   "cell_type": "markdown",
   "id": "66b4204b",
   "metadata": {},
   "source": [
    "# 2. Train from scratch"
   ]
  },
  {
   "cell_type": "markdown",
   "id": "71ec17c9",
   "metadata": {},
   "source": [
    "# Image Labelling"
   ]
  },
  {
   "cell_type": "code",
   "execution_count": 35,
   "id": "3d876e85",
   "metadata": {},
   "outputs": [
    {
     "name": "stdout",
     "output_type": "stream",
     "text": [
      "Cloning into 'labelImg'...\n",
      "remote: Enumerating objects: 2097, done.\u001b[K\n",
      "remote: Counting objects: 100% (7/7), done.\u001b[K\n",
      "remote: Compressing objects: 100% (7/7), done.\u001b[K\n",
      "remote: Total 2097 (delta 0), reused 4 (delta 0), pack-reused 2090\u001b[K\n",
      "Receiving objects: 100% (2097/2097), 237.14 MiB | 802.00 KiB/s, done.\n",
      "Resolving deltas: 100% (1242/1242), done.\n"
     ]
    }
   ],
   "source": [
    "!git clone https://github.com/tzutalin/labelImg"
   ]
  },
  {
   "cell_type": "code",
   "execution_count": null,
   "id": "0df3d64b",
   "metadata": {},
   "outputs": [],
   "source": [
    "#Installing some dependencies\n",
    "# brew install qt  # Install qt-5.x.x by Homebrew\n",
    "# brew install libxml2\n",
    "\n",
    "# or using pip\n",
    "\n",
    "# pip3 install pyqt5 lxml # Install qt and lxml by pip\n",
    "\n",
    "#Inside LabelImg dir\n",
    "# make qt5py3\n",
    "# python3 labelImg.py\n",
    "# python3 labelImg.py [IMAGE_PATH] [PRE-DEFINED CLASS FILE]"
   ]
  },
  {
   "cell_type": "code",
   "execution_count": 4,
   "id": "9265e217",
   "metadata": {},
   "outputs": [],
   "source": [
    "!pip3 install pyqt5 lxml"
   ]
  },
  {
   "cell_type": "code",
   "execution_count": 40,
   "id": "407fe346",
   "metadata": {},
   "outputs": [
    {
     "name": "stdout",
     "output_type": "stream",
     "text": [
      "/Users/bitanguharoy/Downloads/yolo-drowsiness-detection/labelImg\n",
      "zsh:1: command not found: pyrcc5\n",
      "pyrcc5 -o libs/resources.py resources.qrc\n",
      "make: pyrcc5: No such file or directory\n",
      "make: *** [qt5py3] Error 1\n",
      "Traceback (most recent call last):\n",
      "  File \"/Users/bitanguharoy/Downloads/yolo-drowsiness-detection/labelImg/labelImg.py\", line 13, in <module>\n",
      "    from PyQt5.QtGui import *\n",
      "ModuleNotFoundError: No module named 'PyQt5'\n",
      "\n",
      "During handling of the above exception, another exception occurred:\n",
      "\n",
      "Traceback (most recent call last):\n",
      "  File \"/Users/bitanguharoy/Downloads/yolo-drowsiness-detection/labelImg/labelImg.py\", line 22, in <module>\n",
      "    import sip\n",
      "ModuleNotFoundError: No module named 'sip'\n",
      "/Users/bitanguharoy/Downloads/yolo-drowsiness-detection\n"
     ]
    }
   ],
   "source": [
    "%cd labelImg\n",
    "!pyrcc5 -o libs/resources.py resources.qrc\n",
    "!make qt5py3\n",
    "!python3 labelImg.py\n",
    "%cd .."
   ]
  },
  {
   "cell_type": "markdown",
   "id": "b9b4f073",
   "metadata": {},
   "source": [
    "# Training with different models"
   ]
  },
  {
   "cell_type": "markdown",
   "id": "a8fbbbf8",
   "metadata": {},
   "source": [
    "### Installing wandb for tracking"
   ]
  },
  {
   "cell_type": "code",
   "execution_count": 3,
   "id": "c9378594",
   "metadata": {
    "execution": {
     "iopub.execute_input": "2023-04-27T06:39:47.061946Z",
     "iopub.status.busy": "2023-04-27T06:39:47.061219Z",
     "iopub.status.idle": "2023-04-27T06:39:47.228526Z",
     "shell.execute_reply": "2023-04-27T06:39:47.227552Z",
     "shell.execute_reply.started": "2023-04-27T06:39:47.061905Z"
    }
   },
   "outputs": [
    {
     "name": "stderr",
     "output_type": "stream",
     "text": [
      "\u001b[34m\u001b[1mwandb\u001b[0m: \u001b[33mWARNING\u001b[0m If you're specifying your api key in code, ensure this code is not shared publicly.\n",
      "\u001b[34m\u001b[1mwandb\u001b[0m: \u001b[33mWARNING\u001b[0m Consider setting the WANDB_API_KEY environment variable, or running `wandb login` from the command line.\n",
      "\u001b[34m\u001b[1mwandb\u001b[0m: Appending key for api.wandb.ai to your netrc file: /Users/bitanguharoy/.netrc\n"
     ]
    },
    {
     "data": {
      "text/plain": [
       "True"
      ]
     },
     "execution_count": 3,
     "metadata": {},
     "output_type": "execute_result"
    }
   ],
   "source": [
    "# !pip3 install wandb\n",
    "# !wandb login --relogin\n",
    "os.environ['WANDB_ENTITY'] = 'ipda526'\n",
    "os.environ['WANDB_PROJECT'] = 'yolov5-drowsiness-detection'\n",
    "wandb.login(key='') #Place your wandb api key here"
   ]
  },
  {
   "cell_type": "markdown",
   "id": "fae8f894",
   "metadata": {},
   "source": [
    "## Training on config which gave the best results on our UTA-RLDD dataset"
   ]
  },
  {
   "cell_type": "code",
   "execution_count": 3,
   "id": "43738312",
   "metadata": {},
   "outputs": [
    {
     "name": "stdout",
     "output_type": "stream",
     "text": [
      "/Users/bitanguharoy/Downloads/yolo-drowsiness-detection/yolov5\n",
      "\u001b[34m\u001b[1mwandb\u001b[0m: WARNING ⚠️ wandb is deprecated and will be removed in a future release. See supported integrations at https://github.com/ultralytics/yolov5#integrations.\n",
      "\u001b[34m\u001b[1mwandb\u001b[0m: Currently logged in as: \u001b[33mbitanguharoy\u001b[0m (\u001b[33mipda526\u001b[0m). Use \u001b[1m`wandb login --relogin`\u001b[0m to force relogin\n",
      "\u001b[34m\u001b[1mtrain: \u001b[0mweights=yolov5s.pt, cfg=, data=drowsy_dataset.yaml, hyp=data/hyps/hyp.no-augmentation.yaml, epochs=400, batch_size=16, imgsz=640, rect=False, resume=False, nosave=False, noval=False, noautoanchor=False, noplots=False, evolve=None, bucket=, cache=None, image_weights=False, device=, multi_scale=False, single_cls=False, optimizer=SGD, sync_bn=False, workers=2, project=runs/train, name=exp, exist_ok=False, quad=False, cos_lr=False, label_smoothing=0.0, patience=75, freeze=[0], save_period=25, seed=0, local_rank=-1, entity=None, upload_dataset=False, bbox_interval=-1, artifact_alias=latest\n",
      "\u001b[34m\u001b[1mgithub: \u001b[0mskipping check (not a git repository), for updates see https://github.com/ultralytics/yolov5\n",
      "YOLOv5 🚀 2023-4-27 Python-3.11.3 torch-2.1.0.dev20230428 CPU\n",
      "\n",
      "\u001b[34m\u001b[1mhyperparameters: \u001b[0mlr0=0.01, lrf=0.1, momentum=0.937, weight_decay=0.0005, warmup_epochs=3.0, warmup_momentum=0.8, warmup_bias_lr=0.1, box=0.05, cls=0.3, cls_pw=1.0, obj=0.7, obj_pw=1.0, iou_t=0.2, anchor_t=4.0, fl_gamma=0.0, hsv_h=0, hsv_s=0, hsv_v=0, degrees=0.0, translate=0, scale=0, shear=0, perspective=0.0, flipud=0.0, fliplr=0.0, mosaic=0.0, mixup=0.0, copy_paste=0.0\n",
      "\u001b[34m\u001b[1mClearML: \u001b[0mrun 'pip install clearml' to automatically track, visualize and remotely train YOLOv5 🚀 in ClearML\n",
      "\u001b[34m\u001b[1mComet: \u001b[0mrun 'pip install comet_ml' to automatically track and visualize YOLOv5 🚀 runs in Comet\n",
      "\u001b[34m\u001b[1mTensorBoard: \u001b[0mStart with 'tensorboard --logdir runs/train', view at http://localhost:6006/\n",
      "\u001b[34m\u001b[1mwandb\u001b[0m: wandb version 0.15.2 is available!  To upgrade, please run:\n",
      "\u001b[34m\u001b[1mwandb\u001b[0m:  $ pip install wandb --upgrade\n",
      "\u001b[34m\u001b[1mwandb\u001b[0m: Tracking run with wandb version 0.15.0\n",
      "\u001b[34m\u001b[1mwandb\u001b[0m: Run data is saved locally in \u001b[35m\u001b[1m/Users/bitanguharoy/Downloads/yolo-drowsiness-detection/yolov5/wandb/run-20230515_113540-7f4zaip0\u001b[0m\n",
      "\u001b[34m\u001b[1mwandb\u001b[0m: Run \u001b[1m`wandb offline`\u001b[0m to turn off syncing.\n",
      "\u001b[34m\u001b[1mwandb\u001b[0m: Syncing run \u001b[33mfragrant-dew-2\u001b[0m\n",
      "\u001b[34m\u001b[1mwandb\u001b[0m: ⭐️ View project at \u001b[34m\u001b[4mhttps://wandb.ai/ipda526/YOLOv5\u001b[0m\n",
      "\u001b[34m\u001b[1mwandb\u001b[0m: 🚀 View run at \u001b[34m\u001b[4mhttps://wandb.ai/ipda526/YOLOv5/runs/7f4zaip0\u001b[0m\n",
      "\n",
      "Dataset not found ⚠️, missing paths ['/Users/bitanguharoy/Downloads/yolo-drowsiness-detection/data/val/images']\n",
      "Traceback (most recent call last):\n",
      "  File \"/Users/bitanguharoy/Downloads/yolo-drowsiness-detection/yolov5/train.py\", line 640, in <module>\n",
      "    main(opt)\n",
      "  File \"/Users/bitanguharoy/Downloads/yolo-drowsiness-detection/yolov5/train.py\", line 529, in main\n",
      "    train(opt.hyp, opt, device, callbacks)\n",
      "  File \"/Users/bitanguharoy/Downloads/yolo-drowsiness-detection/yolov5/train.py\", line 112, in train\n",
      "    data_dict = data_dict or check_dataset(data)  # check if None\n",
      "                             ^^^^^^^^^^^^^^^^^^^\n",
      "  File \"/Users/bitanguharoy/Downloads/yolo-drowsiness-detection/yolov5/utils/general.py\", line 551, in check_dataset\n",
      "    raise Exception('Dataset not found ❌')\n",
      "Exception: Dataset not found ❌\n",
      "/Users/bitanguharoy/Downloads/yolo-drowsiness-detection\n"
     ]
    }
   ],
   "source": [
    "%cd yolov5\n",
    "!python3 train.py \\\n",
    "--img 640 \\\n",
    "--batch 16 \\\n",
    "--epochs 400 \\\n",
    "--data \"drowsy_dataset.yaml\" \\\n",
    "--hyp \"data/hyps/hyp.no-augmentation.yaml\" \\\n",
    "--optimizer 'SGD' \\\n",
    "--weights \"yolov5s.pt\" \\\n",
    "--patience 75 \\\n",
    "--workers 2 \\\n",
    "--save-period 25 \n",
    "%cd .."
   ]
  },
  {
   "cell_type": "code",
   "execution_count": 4,
   "id": "5292dfdd",
   "metadata": {
    "execution": {
     "iopub.execute_input": "2023-04-27T05:27:09.865675Z",
     "iopub.status.busy": "2023-04-27T05:27:09.864536Z",
     "iopub.status.idle": "2023-04-27T05:27:12.098566Z",
     "shell.execute_reply": "2023-04-27T05:27:12.097250Z",
     "shell.execute_reply.started": "2023-04-27T05:27:09.865609Z"
    }
   },
   "outputs": [
    {
     "name": "stdout",
     "output_type": "stream",
     "text": [
      "Usage: wandb sweep [OPTIONS] CONFIG_YAML_OR_SWEEP_ID\r\n",
      "\r\n",
      "  Create a sweep\r\n",
      "\r\n",
      "Options:\r\n",
      "  -p, --project TEXT        The project of the sweep.\r\n",
      "  -e, --entity TEXT         The entity scope for the project.\r\n",
      "  --controller              Run local controller\r\n",
      "  --verbose                 Display verbose output\r\n",
      "  --name TEXT               Set sweep name\r\n",
      "  --program TEXT            Set sweep program\r\n",
      "  --update TEXT             Update pending sweep\r\n",
      "  -c, --launch_config FILE  Path to JSON or YAML file which defines how to\r\n",
      "                            launch the sweep.\r\n",
      "  --stop                    Finish a sweep to stop running new runs and let\r\n",
      "                            currently running runs finish.\r\n",
      "  --cancel                  Cancel a sweep to kill all running runs and stop\r\n",
      "                            running new runs.\r\n",
      "  --pause                   Pause a sweep to temporarily stop running new\r\n",
      "                            runs.\r\n",
      "  --resume                  Resume a sweep to continue running new runs.\r\n",
      "  -q, --queue TEXT          The name of a launch queue (configured with a\r\n",
      "                            resource), available in the current user or team.\r\n",
      "  --project-queue TEXT      Specify sweeps launch project\r\n",
      "  --help                    Show this message and exit.\r\n"
     ]
    }
   ],
   "source": [
    "!wandb sweep --help"
   ]
  },
  {
   "cell_type": "code",
   "execution_count": 7,
   "id": "23de99c8",
   "metadata": {
    "execution": {
     "iopub.execute_input": "2023-04-27T06:39:55.018155Z",
     "iopub.status.busy": "2023-04-27T06:39:55.017427Z",
     "iopub.status.idle": "2023-04-27T06:39:57.882839Z",
     "shell.execute_reply": "2023-04-27T06:39:57.881482Z",
     "shell.execute_reply.started": "2023-04-27T06:39:55.018117Z"
    }
   },
   "outputs": [
    {
     "name": "stdout",
     "output_type": "stream",
     "text": [
      "/Users/bitanguharoy/Downloads/yolo-drowsiness-detection/yolov5\n",
      "\u001b[34m\u001b[1mwandb\u001b[0m: Creating sweep from: wandb_config.yaml\n",
      "\u001b[34m\u001b[1mwandb\u001b[0m: Created sweep with ID: \u001b[33mokwyr5bx\u001b[0m\n",
      "\u001b[34m\u001b[1mwandb\u001b[0m: View sweep at: \u001b[34m\u001b[4mhttps://wandb.ai/ipda526/yolov5-drowsiness-detection/sweeps/okwyr5bx\u001b[0m\n",
      "\u001b[34m\u001b[1mwandb\u001b[0m: Run sweep agent with: \u001b[33mwandb agent ipda526/yolov5-drowsiness-detection/okwyr5bx\u001b[0m\n",
      "/Users/bitanguharoy/Downloads/yolo-drowsiness-detection\n"
     ]
    }
   ],
   "source": [
    "%cd yolov5\n",
    "!wandb sweep wandb_config.yaml\n",
    "%cd .."
   ]
  },
  {
   "cell_type": "code",
   "execution_count": 11,
   "id": "b71fab2f",
   "metadata": {
    "execution": {
     "iopub.execute_input": "2023-04-27T07:00:08.567220Z",
     "iopub.status.busy": "2023-04-27T07:00:08.566332Z"
    },
    "scrolled": false
   },
   "outputs": [],
   "source": [
    "%cd yolov5\n",
    "!wandb agent --count 5 ipda526/yolov5-drowsiness-detection/okwyr5bx #This is the sweep id got from previous step\n",
    "%cd .."
   ]
  },
  {
   "cell_type": "markdown",
   "id": "dffa20ba",
   "metadata": {},
   "source": [
    "# 3. Model Testing"
   ]
  },
  {
   "cell_type": "code",
   "execution_count": 5,
   "id": "6a9e4360",
   "metadata": {},
   "outputs": [
    {
     "data": {
      "application/vnd.jupyter.widget-view+json": {
       "model_id": "466d0a09f6d540a48bbe41c788797d68",
       "version_major": 2,
       "version_minor": 0
      },
      "text/plain": [
       "VBox(children=(Label(value='Waiting for wandb.init()...\\r'), FloatProgress(value=0.016751919449999757, max=1.0…"
      ]
     },
     "metadata": {},
     "output_type": "display_data"
    },
    {
     "data": {
      "text/html": [
       "wandb version 0.15.2 is available!  To upgrade, please run:\n",
       " $ pip install wandb --upgrade"
      ],
      "text/plain": [
       "<IPython.core.display.HTML object>"
      ]
     },
     "metadata": {},
     "output_type": "display_data"
    },
    {
     "data": {
      "text/html": [
       "Tracking run with wandb version 0.15.0"
      ],
      "text/plain": [
       "<IPython.core.display.HTML object>"
      ]
     },
     "metadata": {},
     "output_type": "display_data"
    },
    {
     "data": {
      "text/html": [
       "Run data is saved locally in <code>/Users/bitanguharoy/Downloads/yolo-drowsiness-detection/wandb/run-20230515_120400-7k99qk43</code>"
      ],
      "text/plain": [
       "<IPython.core.display.HTML object>"
      ]
     },
     "metadata": {},
     "output_type": "display_data"
    },
    {
     "data": {
      "text/html": [
       "Syncing run <strong><a href='https://wandb.ai/ipda526/yolov5-drowsiness-detection/runs/7k99qk43' target=\"_blank\">rural-waterfall-64</a></strong> to <a href='https://wandb.ai/ipda526/yolov5-drowsiness-detection' target=\"_blank\">Weights & Biases</a> (<a href='https://wandb.me/run' target=\"_blank\">docs</a>)<br/>"
      ],
      "text/plain": [
       "<IPython.core.display.HTML object>"
      ]
     },
     "metadata": {},
     "output_type": "display_data"
    },
    {
     "data": {
      "text/html": [
       " View project at <a href='https://wandb.ai/ipda526/yolov5-drowsiness-detection' target=\"_blank\">https://wandb.ai/ipda526/yolov5-drowsiness-detection</a>"
      ],
      "text/plain": [
       "<IPython.core.display.HTML object>"
      ]
     },
     "metadata": {},
     "output_type": "display_data"
    },
    {
     "data": {
      "text/html": [
       " View run at <a href='https://wandb.ai/ipda526/yolov5-drowsiness-detection/runs/7k99qk43' target=\"_blank\">https://wandb.ai/ipda526/yolov5-drowsiness-detection/runs/7k99qk43</a>"
      ],
      "text/plain": [
       "<IPython.core.display.HTML object>"
      ]
     },
     "metadata": {},
     "output_type": "display_data"
    },
    {
     "name": "stderr",
     "output_type": "stream",
     "text": [
      "\u001b[34m\u001b[1mwandb\u001b[0m:   1 of 1 files downloaded.  \n"
     ]
    }
   ],
   "source": [
    "model_url = 'ipda526/yolov5-drowsiness-detection/run_ol2p2qop_model:v15' #from wandb artifacts\n",
    "run = wandb.init()\n",
    "artifact = run.use_artifact(model_url, type='model')\n",
    "artifact_dir = artifact.download()"
   ]
  },
  {
   "cell_type": "code",
   "execution_count": null,
   "id": "eecd1ed1",
   "metadata": {},
   "outputs": [],
   "source": [
    "model = torch.hub.load('ultralytics/yolov5', 'custom', path=f'{artifact_dir}/best.pt', force_reload=True)"
   ]
  },
  {
   "cell_type": "markdown",
   "id": "7e137f6a",
   "metadata": {},
   "source": [
    "## Realtime testing in video-cam"
   ]
  },
  {
   "cell_type": "code",
   "execution_count": null,
   "id": "def25188",
   "metadata": {},
   "outputs": [],
   "source": [
    "cap = cv2.VideoCapture(0)\n",
    "while cap.isOpened():\n",
    "    ret, frame = cap.read()\n",
    "    \n",
    "    # Make detections \n",
    "    results = model(frame)\n",
    "    \n",
    "    cv2.imshow('YOLO', np.squeeze(results.render()))\n",
    "    \n",
    "    if cv2.waitKey(10) & 0xFF == ord('q'):\n",
    "        break\n",
    "cap.release()\n",
    "cv2.destroyAllWindows()"
   ]
  }
 ],
 "metadata": {
  "kernelspec": {
   "display_name": "Python 3 (ipykernel)",
   "language": "python",
   "name": "python3"
  },
  "language_info": {
   "codemirror_mode": {
    "name": "ipython",
    "version": 3
   },
   "file_extension": ".py",
   "mimetype": "text/x-python",
   "name": "python",
   "nbconvert_exporter": "python",
   "pygments_lexer": "ipython3",
   "version": "3.11.3"
  }
 },
 "nbformat": 4,
 "nbformat_minor": 5
}
