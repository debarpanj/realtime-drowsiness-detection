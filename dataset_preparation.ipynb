{
 "cells": [
  {
   "cell_type": "markdown",
   "id": "637b8cef",
   "metadata": {},
   "source": [
    "# Image extraction from UTA-RLDD dataset which consists of videos"
   ]
  },
  {
   "cell_type": "code",
   "execution_count": 3,
   "id": "c193d49b",
   "metadata": {},
   "outputs": [],
   "source": [
    "import cv2\n",
    "import uuid   # Unique identifier\n",
    "import os\n",
    "import time\n",
    "import sys"
   ]
  },
  {
   "cell_type": "code",
   "execution_count": null,
   "id": "fc010710",
   "metadata": {},
   "outputs": [],
   "source": [
    "'''\n",
    "    Classes labels used in original dataset\n",
    "    0  - awake\n",
    "    10 - drowsy\n",
    "    5 - low-vigilant\n",
    "    image_name = \"<roll>.<person_no>.<class>.<uid>.jpg\"\n",
    "'''"
   ]
  },
  {
   "cell_type": "code",
   "execution_count": 6,
   "id": "5c33640f",
   "metadata": {},
   "outputs": [],
   "source": [
    "READ_PATH_BASE1 = \"Fold1_part1/Fold1_part1\" #Similar for other folds do in similar manner\n",
    "READ_PATH_BASE2 = \"Fold1_part2/Fold1_part2\"\n",
    "roll = 224101036\n",
    "label_to_name = {0:'awake',10:'drowsy',5:'low vigilant'}\n",
    "WRITE_PATH_BASE = \"uta-rldd/train\"\n",
    "NUM_IMAGES = 10"
   ]
  },
  {
   "cell_type": "code",
   "execution_count": 7,
   "id": "c4a559f7",
   "metadata": {},
   "outputs": [],
   "source": [
    "def capture_from_video(read_path,prefix=\"\",label=\"\"):\n",
    "    cap = cv2.VideoCapture(read_path)\n",
    "    for img_num in range(NUM_IMAGES):\n",
    "        print('image number {}'.format(img_num+1))\n",
    "        # video feed\n",
    "        ret, frame = cap.read()\n",
    "        \n",
    "        # Naming out image path\n",
    "        imgname = os.path.join(os.path.join(WRITE_PATH_BASE,label), prefix+'.'+str(uuid.uuid1().hex)+'.jpg')\n",
    "        \n",
    "        # Writes out image to file \n",
    "        cv2.imwrite(imgname, frame)\n",
    "        \n",
    "        # Render to the screen\n",
    "        cv2.imshow('Image Collection', frame)\n",
    "        \n",
    "        # 10 second delay between captures\n",
    "        time.sleep(10)\n",
    "        \n",
    "        if cv2.waitKey(10) & 0xFF == ord('q'):\n",
    "            break\n",
    "    cap.release()\n",
    "    cv2.destroyAllWindows()"
   ]
  },
  {
   "cell_type": "code",
   "execution_count": 8,
   "id": "117c8136",
   "metadata": {},
   "outputs": [],
   "source": [
    "def read_data(base_path=\".\"):\n",
    "    for dirs in sorted(os.listdir(base_path)):\n",
    "        dir_path = os.path.join(base_path,dirs)                                                             \n",
    "        if os.path.isdir(dir_path):\n",
    "            files = sorted(os.listdir(dir_path))\n",
    "            for file in files:\n",
    "                file_path = os.path.join(dir_path,file)        \n",
    "                if os.path.isfile(file_path):\n",
    "                        print(file_path)\n",
    "                        label = label_to_name[int(file.split('.')[0])]\n",
    "                        image_prefix = f\"{roll}.person{dirs}.{label}\"\n",
    "    #                     print(image_prefix)\n",
    "                        print('Collecting images for person {} for class {} started'.format(dirs,label))\n",
    "                        time.sleep(2)\n",
    "                        capture_from_video(file_path,image_prefix,label)\n",
    "                        print('Collecting images for person {} for class {} finished'.format(dirs,label))\n"
   ]
  },
  {
   "cell_type": "code",
   "execution_count": null,
   "id": "4c6ce3a0",
   "metadata": {},
   "outputs": [],
   "source": [
    "read_data(READ_PATH_BASE1)\n",
    "read_data(READ_PATH_BASE2)                                                                                                                    "
   ]
  }
 ],
 "metadata": {
  "kernelspec": {
   "display_name": "Python 3 (ipykernel)",
   "language": "python",
   "name": "python3"
  },
  "language_info": {
   "codemirror_mode": {
    "name": "ipython",
    "version": 3
   },
   "file_extension": ".py",
   "mimetype": "text/x-python",
   "name": "python",
   "nbconvert_exporter": "python",
   "pygments_lexer": "ipython3",
   "version": "3.11.3"
  }
 },
 "nbformat": 4,
 "nbformat_minor": 5
}
